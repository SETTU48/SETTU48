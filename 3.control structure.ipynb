{
 "cells": [
  {
   "cell_type": "code",
   "execution_count": 4,
   "metadata": {},
   "outputs": [
    {
     "name": "stdout",
     "output_type": "stream",
     "text": [
      "Enter the mark:32\n",
      "fail\n"
     ]
    }
   ],
   "source": [
    "mark=int(input(\"Enter the mark:\"))\n",
    "\n",
    "if(mark<35):\n",
    "    print(\"fail\")\n",
    "else:\n",
    "    print(\"pass\")\n",
    "    "
   ]
  },
  {
   "cell_type": "code",
   "execution_count": 5,
   "metadata": {},
   "outputs": [
    {
     "name": "stdout",
     "output_type": "stream",
     "text": [
      "Enter the mark:26\n",
      "fail\n"
     ]
    }
   ],
   "source": [
    "mark=int(input(\"Enter the mark:\"))\n",
    "if(mark<35):\n",
    "    print(\"fail\")\n",
    "else:\n",
    "    print(\"pass\")"
   ]
  },
  {
   "cell_type": "code",
   "execution_count": 8,
   "metadata": {},
   "outputs": [
    {
     "name": "stdout",
     "output_type": "stream",
     "text": [
      "Enter the mark: 50\n",
      "pass\n"
     ]
    }
   ],
   "source": [
    "mark=int(input(\"Enter the mark: \"))\n",
    "if(mark==50):\n",
    "    print(\"pass\")\n",
    "    "
   ]
  },
  {
   "cell_type": "code",
   "execution_count": 7,
   "metadata": {},
   "outputs": [
    {
     "name": "stdout",
     "output_type": "stream",
     "text": [
      "Enter the mark: 56\n"
     ]
    }
   ],
   "source": [
    "mark=int(input(\"Enter the mark: \"))\n",
    "if(mark==35):\n",
    "    print(\"pass\")\n",
    "\n"
   ]
  },
  {
   "cell_type": "code",
   "execution_count": 9,
   "metadata": {},
   "outputs": [
    {
     "name": "stdout",
     "output_type": "stream",
     "text": [
      "Enter the mark:66\n",
      "pass\n"
     ]
    }
   ],
   "source": [
    "mark=int(input(\"Enter the mark:\"))\n",
    "if(mark<35):\n",
    "    print(\"fail\")\n",
    "else:\n",
    "    print(\"pass\")"
   ]
  },
  {
   "cell_type": "code",
   "execution_count": 10,
   "metadata": {},
   "outputs": [
    {
     "name": "stdout",
     "output_type": "stream",
     "text": [
      "Enter the mark:27\n",
      "fail\n"
     ]
    }
   ],
   "source": [
    "mark=int(input(\"Enter the mark:\"))\n",
    "if(mark<35):\n",
    "    print(\"fail\")\n",
    "else:\n",
    "    print(\"pass\")"
   ]
  },
  {
   "cell_type": "code",
   "execution_count": 11,
   "metadata": {},
   "outputs": [
    {
     "name": "stdout",
     "output_type": "stream",
     "text": [
      "Enter the mark:50\n",
      "pass\n"
     ]
    }
   ],
   "source": [
    "mark=int(input(\"Enter the mark:\"))\n",
    "if(mark<35):\n",
    "    print(\"fail\")\n",
    "else:\n",
    "    print(\"pass\")"
   ]
  },
  {
   "cell_type": "code",
   "execution_count": 12,
   "metadata": {},
   "outputs": [
    {
     "name": "stdout",
     "output_type": "stream",
     "text": [
      "Enter the mark:32\n",
      "Grade D\n"
     ]
    }
   ],
   "source": [
    "mark=int(input(\"Enter the mark:\"))\n",
    "if(mark<34):\n",
    "    print(\"Grade D\")\n",
    "elif(mark>35):\n",
    "    print(\"Grade C\")\n",
    "elif(mark>60):\n",
    "    print(\"Grade B\")\n",
    "else:\n",
    "    print(\"Grade A\")"
   ]
  },
  {
   "cell_type": "code",
   "execution_count": 13,
   "metadata": {},
   "outputs": [
    {
     "name": "stdout",
     "output_type": "stream",
     "text": [
      "Enter the mark:46\n",
      "Grade C\n"
     ]
    }
   ],
   "source": [
    "mark=int(input(\"Enter the mark:\"))\n",
    "if(mark<34):\n",
    "    print(\"Grade D\")\n",
    "elif(mark>35):\n",
    "    print(\"Grade C\")\n",
    "elif(mark>60):\n",
    "    print(\"Grade B\")\n",
    "else:\n",
    "    print(\"Grade A\")"
   ]
  },
  {
   "cell_type": "code",
   "execution_count": 14,
   "metadata": {},
   "outputs": [
    {
     "name": "stdout",
     "output_type": "stream",
     "text": [
      "Enter the mark:55\n",
      "Grade B\n"
     ]
    }
   ],
   "source": [
    "mark=int(input(\"Enter the mark:\"))\n",
    "if(mark<=34):\n",
    "    print(\"Grade D\")\n",
    "elif(mark<=50):\n",
    "    print(\"Grade C\")\n",
    "elif(mark<=70):\n",
    "    print(\"Grade B\")\n",
    "else:\n",
    "    print(\"Grade A\")"
   ]
  },
  {
   "cell_type": "code",
   "execution_count": 15,
   "metadata": {},
   "outputs": [
    {
     "name": "stdout",
     "output_type": "stream",
     "text": [
      "Enter the mark:69\n",
      "Grade B\n"
     ]
    }
   ],
   "source": [
    "mark=int(input(\"Enter the mark:\"))\n",
    "if(mark<=34):\n",
    "    print(\"Grade D\")\n",
    "elif(mark<=50):\n",
    "    print(\"Grade C\")\n",
    "elif(mark<=70):\n",
    "    print(\"Grade B\")\n",
    "else:\n",
    "    print(\"Grade A\")"
   ]
  },
  {
   "cell_type": "code",
   "execution_count": 16,
   "metadata": {},
   "outputs": [
    {
     "name": "stdout",
     "output_type": "stream",
     "text": [
      "Enter the mark:84\n",
      "Grade A\n"
     ]
    }
   ],
   "source": [
    "mark=int(input(\"Enter the mark:\"))\n",
    "if(mark<=34):\n",
    "    print(\"Grade D\")\n",
    "elif(mark<=50):\n",
    "    print(\"Grade C\")\n",
    "elif(mark<=70):\n",
    "    print(\"Grade B\")\n",
    "else:\n",
    "    print(\"Grade A\")"
   ]
  },
  {
   "cell_type": "code",
   "execution_count": 17,
   "metadata": {},
   "outputs": [
    {
     "name": "stdout",
     "output_type": "stream",
     "text": [
      "Enter the mark:71\n",
      "Grade A\n"
     ]
    }
   ],
   "source": [
    "mark=int(input(\"Enter the mark:\"))\n",
    "if(mark<=34):\n",
    "    print(\"Grade D\")\n",
    "elif(mark<=50):\n",
    "    print(\"Grade C\")\n",
    "elif(mark<=70):\n",
    "    print(\"Grade B\")\n",
    "else:\n",
    "    print(\"Grade A\")"
   ]
  },
  {
   "cell_type": "code",
   "execution_count": null,
   "metadata": {},
   "outputs": [],
   "source": []
  },
  {
   "cell_type": "code",
   "execution_count": 18,
   "metadata": {},
   "outputs": [],
   "source": [
    "lists=[30,40,69,80,55,28]"
   ]
  },
  {
   "cell_type": "code",
   "execution_count": 19,
   "metadata": {},
   "outputs": [
    {
     "name": "stdout",
     "output_type": "stream",
     "text": [
      "30\n",
      "40\n",
      "69\n",
      "80\n",
      "55\n",
      "28\n"
     ]
    }
   ],
   "source": [
    "for temp in lists:\n",
    "    print(temp)"
   ]
  },
  {
   "cell_type": "code",
   "execution_count": 20,
   "metadata": {},
   "outputs": [],
   "source": [
    "lists=[30,40,69,80,55,28,49]"
   ]
  },
  {
   "cell_type": "code",
   "execution_count": 21,
   "metadata": {},
   "outputs": [
    {
     "name": "stdout",
     "output_type": "stream",
     "text": [
      "Grade D\n",
      "Grade C\n",
      "Grade B\n",
      "Grade A\n",
      "Grade B\n",
      "Grade D\n",
      "Grade C\n"
     ]
    }
   ],
   "source": [
    "for mark in lists:\n",
    "    if(mark<=34):\n",
    "        print(\"Grade D\")\n",
    "    elif(mark<=50):\n",
    "        print(\"Grade C\")\n",
    "    elif(mark<=70):\n",
    "        print(\"Grade B\")\n",
    "    else:\n",
    "        print(\"Grade A\")\n",
    "    \n",
    "    "
   ]
  },
  {
   "cell_type": "code",
   "execution_count": 22,
   "metadata": {},
   "outputs": [
    {
     "name": "stdout",
     "output_type": "stream",
     "text": [
      "Grade D\n",
      "Grade C\n",
      "Grade B\n",
      "Grade A\n",
      "Grade B\n",
      "Grade D\n",
      "Grade C\n"
     ]
    }
   ],
   "source": [
    "for mark in lists:\n",
    "    if(mark<=34):\n",
    "        print(\"Grade D\")\n",
    "    elif(mark<=50):\n",
    "        print(\"Grade C\")\n",
    "    elif(mark<=70):\n",
    "        print(\"Grade B\")\n",
    "    else:\n",
    "        print(\"Grade A\")\n",
    "    "
   ]
  },
  {
   "cell_type": "code",
   "execution_count": 23,
   "metadata": {},
   "outputs": [
    {
     "name": "stdout",
     "output_type": "stream",
     "text": [
      "0\n",
      "1\n",
      "2\n",
      "3\n",
      "4\n",
      "5\n",
      "6\n",
      "7\n",
      "8\n",
      "9\n"
     ]
    }
   ],
   "source": [
    "for num in range(0,10):\n",
    "    print(num)\n"
   ]
  },
  {
   "cell_type": "code",
   "execution_count": 26,
   "metadata": {},
   "outputs": [
    {
     "name": "stdout",
     "output_type": "stream",
     "text": [
      "0\n",
      "3\n",
      "6\n",
      "9\n",
      "12\n",
      "15\n",
      "18\n",
      "21\n",
      "24\n",
      "27\n"
     ]
    }
   ],
   "source": [
    "for num in range(0,30,3):\n",
    "    print(num)"
   ]
  },
  {
   "cell_type": "code",
   "execution_count": null,
   "metadata": {},
   "outputs": [],
   "source": []
  }
 ],
 "metadata": {
  "kernelspec": {
   "display_name": "Python 3",
   "language": "python",
   "name": "python3"
  },
  "language_info": {
   "codemirror_mode": {
    "name": "ipython",
    "version": 3
   },
   "file_extension": ".py",
   "mimetype": "text/x-python",
   "name": "python",
   "nbconvert_exporter": "python",
   "pygments_lexer": "ipython3",
   "version": "3.7.4"
  }
 },
 "nbformat": 4,
 "nbformat_minor": 2
}
